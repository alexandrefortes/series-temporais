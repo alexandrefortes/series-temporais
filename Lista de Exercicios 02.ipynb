{
 "cells": [
  {
   "cell_type": "markdown",
   "metadata": {},
   "source": [
    "## Especialização em Inteligência Artificial – IFMG\n",
    "## Análise de Séries Temporais - Lista de exercícios 1\n",
    "**Aluno**: Alexandre Fortes Santana  \n",
    "\n",
    "**Professor**: Carlos Severiano\n",
    "\n",
    "[Notebook: https://github.com/alexandrefortes/series-temporais/blob/main/Lista%20de%20Exercicios%2002.ipynb](https://github.com/alexandrefortes/series-temporais/blob/main/Lista%20de%20Exercicios%2001.ipynb)"
   ]
  },
  {
   "cell_type": "markdown",
   "metadata": {},
   "source": [
    "1 A série ilustrada abaixo, feita pelo IBGE, demonstra o volume de vendas mensal no Brasil. Ela está disponível no arquivo vendas_brasil.csv, em anexo a esta atividade, e também pode ser obtida em diferentes formatos no endereço: https://www.ibge.gov.br/estatisticas/economicas/comercio/9227-pesquisa-mensal-de-comercio.html?=&t=series-historicas"
   ]
  }
 ],
 "metadata": {
  "language_info": {
   "name": "python"
  }
 },
 "nbformat": 4,
 "nbformat_minor": 2
}
