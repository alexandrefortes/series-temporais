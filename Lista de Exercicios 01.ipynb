{
 "cells": [
  {
   "cell_type": "markdown",
   "metadata": {},
   "source": [
    "## Especialização em Inteligência Artificial – IFMG\n",
    "## Análise de Séries Temporais\n",
    "**Aluno**: Alexandre Fortes Santana  \n",
    "\n",
    "**Professor**: Carlos Severiano\n",
    "\n",
    "## 1. Defina o que é uma série temporal e explique como ela se difere de outros tipos de dados.  \n",
    "\n",
    "**Série Temporal**\n",
    "Uma série temporal é uma sequência de pontos de dados, geralmente consistindo de medições sucessivas tomadas em um intervalo de tempo fixo. Em outras palavras, é um conjunto de observações coletadas ou registradas em diferentes momentos, geralmente em intervalos iguais. Por exemplo, a temperatura diária de uma cidade ao longo de um ano, as vendas mensais de um produto ao longo de vários anos ou o preço de uma ação a cada minuto durante um dia de negociação são todas séries temporais.\n",
    "\n",
    "**Diferenças entre Séries Temporais e Outros Dados**\n",
    "\n",
    "1. **Ordenação:** Uma das características mais definidoras de uma série temporal é a ordem dos dados. Enquanto em muitos conjuntos de dados a ordem das observações não importa, em uma série temporal é crucial, pois a ordem representa a evolução no tempo.\n",
    "\n",
    "2. **Dependência Temporal:** Em uma série temporal, uma observação geralmente depende das observações anteriores. Por exemplo, o preço de uma ação em um determinado momento pode ser influenciado pelos preços anteriores. Isso contrasta com dados cross-sectional (transversais), onde as observações são geralmente consideradas independentes umas das outras.\n",
    "\n",
    "3. **Tendência e Sazonalidade:** Séries temporais muitas vezes apresentam tendências (mudanças de longo prazo na média) e sazonalidades (variações que se repetem em intervalos fixos de tempo). Esses componentes não são geralmente observados em dados não temporais.\n",
    "\n",
    "4. **Autocorrelação:** Enquanto em muitos tipos de dados a correlação entre variáveis é de interesse, em séries temporais, a autocorrelação (correlação de uma série com uma versão defasada de si mesma) é frequentemente de interesse.\n",
    "\n",
    "5. **Não estacionariedade:** Muitas séries temporais são não estacionárias, o que significa que suas propriedades estatísticas mudam ao longo do tempo. Por exemplo, a média ou a variância de uma série pode mudar ao longo do tempo. Isso contrasta com muitos conjuntos de dados, onde se assume que as observações são geradas a partir de um processo estacionário.\n",
    "\n",
    "Estudar séries temporais é crucial em muitos campos, como economia, finanças, meteorologia e muitos outros, porque fornece insights sobre os mecanismos subjacentes que produzem as observações e pode ajudar na previsão de valores futuros."
   ]
  },
  {
   "cell_type": "markdown",
   "metadata": {},
   "source": [
    "## 2. Liste pelo menos três aplicações reais de séries temporais. Descreva brevemente como a análise de séries temporais é usada nesses casos e que tipo de decisões podem ser obtidas.  \n",
    "\n",
    "1. **Previsão do Mercado de Ações:**\n",
    "   - **Uso da Análise de Séries Temporais:** Investidores e analistas financeiros frequentemente estudam os preços históricos das ações e outros indicadores econômicos usando séries temporais para identificar padrões e tendências.\n",
    "   - **Decisões Possíveis:** Baseando-se na análise, os investidores podem decidir comprar, vender ou manter ações. Além disso, as instituições financeiras podem usar essas análises para alocar recursos ou ajustar suas estratégias de hedging.\n",
    "\n",
    "2. **Previsão Meteorológica:**\n",
    "   - **Uso da Análise de Séries Temporais:** Meteorologistas coletam dados sobre temperatura, pressão, umidade, velocidade do vento, entre outros, em intervalos regulares. Ao analisar essas séries temporais, é possível identificar padrões que conduzem a determinados fenômenos climáticos.\n",
    "   - **Decisões Possíveis:** Decidir quando emitir alertas de tempestade, planejar estratégias de irrigação para agricultura, ou tomar decisões sobre a gestão de recursos hídricos.\n",
    "\n",
    "3. **Gestão de Demanda de Energia Elétrica:**\n",
    "   - **Uso da Análise de Séries Temporais:** Companhias elétricas monitoram o consumo de eletricidade em intervalos regulares. Ao analisar estas séries temporais, elas podem identificar tendências diárias, semanais e sazonais no consumo.\n",
    "   - **Decisões Possíveis:** Planejar a geração e distribuição de energia de acordo com a demanda prevista, definir tarifas diferenciadas para horários de pico e fora de pico, ou decidir sobre a necessidade de construção de novas usinas de energia.\n",
    "\n",
    "Em todas essas aplicações, a análise de séries temporais é usada para entender padrões históricos e, muitas vezes, para prever o futuro. Essas previsões, por sua vez, informam uma variedade de decisões críticas em diversos setores da sociedade."
   ]
  },
  {
   "cell_type": "markdown",
   "metadata": {},
   "source": [
    "## 3. Suponha que você tenha dados de vendas diárias de um produto ao longo de um ano. Descreva três etapas que você seguiria para realizar uma análise inicial desses dados de séries temporais.  \n",
    "\n",
    "Ao abordar dados de vendas diárias de um produto ao longo de um ano, seguiria as seguintes três etapas iniciais para uma análise de séries temporais:\n",
    "\n",
    "1. **Visualização dos Dados:**\n",
    "   - **Gráficos de Linha:** A primeira coisa que você deve fazer é criar um gráfico de linha das vendas diárias ao longo do ano. Isso fornece uma visão geral da série temporal e permite identificar visualmente qualquer padrão, tendência ou sazonalidade.\n",
    "   - **Gráficos de Boxplot Mensais:** Você pode usar boxplots mensais para entender a variação dentro de cada mês e entre meses diferentes. Isso pode ajudar a identificar sazonalidades ou outros efeitos mensais.\n",
    "\n",
    "2. **Decomposição da Série Temporal:**\n",
    "   - **Tendência:** Verifique se há alguma tendência de longo prazo nos dados. Uma tendência é uma direção geral na qual a série parece estar se movendo. Pode ser ascendente, descendente ou constante.\n",
    "   - **Sazonalidade:** Verifique se há padrões que se repetem em intervalos regulares. Por exemplo, as vendas aumentam todos os finais de semana ou diminuem durante as férias?\n",
    "   - **Resíduos:** Após contabilizar a tendência e a sazonalidade, os resíduos representam o que resta. Eles podem ajudar a identificar irregularidades ou eventos não recorrentes que afetaram as vendas.\n",
    "\n",
    "3. **Verificação da Estacionariedade:**\n",
    "   - Dados estacionários têm propriedades estatísticas (como média e variância) que são constantes ao longo do tempo. A estacionariedade é uma propriedade importante porque muitos modelos de séries temporais assumem que os dados são estacionários.\n",
    "   - Você pode usar testes estatísticos, como o Teste Dickey-Fuller Aumentado, para verificar a estacionariedade. Se os dados não forem estacionários, você pode precisar diferenciar a série ou aplicar outras transformações para torná-la estacionária antes da modelagem.\n",
    "\n",
    "Essas etapas formam a base para uma análise inicial dos dados de séries temporais e fornecem insights essenciais sobre os padrões subjacentes e características dos dados. Uma vez compreendido o comportamento básico da série, você estará em uma posição melhor para aplicar modelos de previsão ou investigar mais profundamente os fatores que influenciam as vendas."
   ]
  },
  {
   "cell_type": "markdown",
   "metadata": {},
   "source": [
    "## 4. Pesquise bases de dados contendo séries temporais que apresentem as seguintes características:  \n",
    "    a. Tendência  \n",
    "    b. Sazonalidade  \n",
    "    c. Aleatoriedade  \n",
    "    d. Estacionariedade  \n",
    "    e. Não-estacionariedade  \n",
    "\n",
    "\n",
    "1. **Tendência**:  \n",
    "    - **Dataset**: Dados de médias globais de temperatura.\n",
    "    - **Descrição**: As médias globais de temperatura ao longo dos anos têm mostrado uma tendência ascendente, representando o aquecimento global.\n",
    "    - **Link**: [GISS Surface Temperature Analysis (GISTEMP)](https://data.giss.nasa.gov/gistemp/)\n",
    "\n",
    "2. **Sazonalidade**:\n",
    "    - **Dataset**: Brazilian E-Commerce Public Dataset by Olist\n",
    "    - **Descrição**: O conjunto de dados da Olist tem o potencial de exibir sazonalidade porque se refere a vendas de e-commerce. Vendas online, assim como vendas físicas, são frequentemente influenciadas por várias sazonalidades, como festas de fim de ano, Black Friday, Dia das Mães, etc.\n",
    "    - **Link**: [Brazilian E-Commerce Public Dataset by Olist](https://www.kaggle.com/datasets/olistbr/brazilian-ecommerce#olist_products_dataset.csv)\n",
    "\n",
    "3. **Aleatoriedade**:\n",
    "    - **Dataset**: UCI - Dados de Sensores de Atividade Humana.\n",
    "    - **Descrição**: Dados de sensores de smartphones coletados de atividades humanas. Pode conter ruído e aleatoriedade nas leituras dos sensores.\n",
    "    - **Link**: [Human Activity Recognition Using Smartphones](https://archive.ics.uci.edu/dataset/240/human+activity+recognition+using+smartphones)\n",
    "\n",
    "4. **Estacionariedade**:\n",
    "    - **Dataset**: Taxas de câmbio diárias ajustadas.\n",
    "    - **Descrição**: Depois de remover tendências e efeitos sazonais, muitos datasets financeiros podem ser transformados em séries temporais estacionárias.\n",
    "    - **Link**: [FRED - Taxas de Câmbio](https://fred.stlouisfed.org/categories/94)\n",
    "\n",
    "5. **Não-estacionariedade**:\n",
    "    - **Dataset**: Produto Interno Bruto (PIB) de um país.\n",
    "    - **Descrição**: O PIB de um país geralmente mostra crescimento ao longo do tempo e não é estacionário.\n",
    "    - **Link**: [PIB-GDP Global by countries since 1960 to 2021](https://www.kaggle.com/datasets/fredericksalazar/pib-gdp-global-by-countries-since-1960-to-2021)"
   ]
  }
 ],
 "metadata": {
  "kernelspec": {
   "display_name": "Python 3",
   "language": "python",
   "name": "python3"
  },
  "language_info": {
   "name": "python",
   "version": "3.11.3"
  }
 },
 "nbformat": 4,
 "nbformat_minor": 2
}
